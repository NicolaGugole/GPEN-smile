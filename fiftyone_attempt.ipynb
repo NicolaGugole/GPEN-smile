{
 "cells": [
  {
   "cell_type": "code",
   "execution_count": null,
   "metadata": {},
   "outputs": [],
   "source": [
    "import os \n",
    "import sys\n",
    "from visualization.fiftyone.outputs import FiftyOneGroupedOutputs \n",
    "\n",
    "dataset = [\n",
    "    {\n",
    "        \"lq\": \"dataset_path/img_lq_1.jpeg\", \n",
    "        \"hq\": \"dataset_path/img_hq_1.jpeg\", \n",
    "        \"processed\": \"dataset_path/img_out_1.jpeg\", \n",
    "        \"psnr\": 0.01,\n",
    "        \"in_psnr\": 0.02,\n",
    "    },\n",
    "    {\n",
    "        \"lq\": \"dataset_path/img_lq_1.jpeg\", \n",
    "        \"hq\": \"dataset_path/img_hq_1.jpeg\", \n",
    "        \"processed\": \"dataset_path/img_out_1.jpeg\", \n",
    "        \"psnr\": 0.01,\n",
    "        \"in_psnr\": 0.02,\n",
    "    }\n",
    "]\n",
    "\n",
    "visualizer = FiftyOneGroupedOutputs(\n",
    "    \"my_visualizer_name\",\n",
    "    {\"lq\", \"hq\", \"processed\"}\n",
    "    )\n",
    "\n",
    "for datapoint in dataset:\n",
    "    visualizer.add_grouped_sample(\n",
    "        {\n",
    "            \"lq\": datapoint[\"lq\"], \n",
    "            \"hq\": datapoint[\"hq\"], \n",
    "            \"processed\": datapoint[\"processed\"], \n",
    "        },\n",
    "        psnr=datapoint[\"psnr\"],\n",
    "        in_psnr=datapoint[\"in_psnr\"],\n",
    "    )\n"
   ]
  }
 ],
 "metadata": {
  "kernelspec": {
   "display_name": "Python 3.8.10 64-bit",
   "language": "python",
   "name": "python3"
  },
  "language_info": {
   "name": "python",
   "version": "3.8.10"
  },
  "orig_nbformat": 4,
  "vscode": {
   "interpreter": {
    "hash": "31f2aee4e71d21fbe5cf8b01ff0e069b9275f58929596ceb00d14d90e3e16cd6"
   }
  }
 },
 "nbformat": 4,
 "nbformat_minor": 2
}
